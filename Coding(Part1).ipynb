{
 "cells": [
  {
   "cell_type": "code",
   "execution_count": 1,
   "metadata": {},
   "outputs": [],
   "source": [
    "import json\n",
    "import re"
   ]
  },
  {
   "cell_type": "code",
   "execution_count": 6,
   "metadata": {},
   "outputs": [],
   "source": [
    "basics = ['abstraction','encapsulation','inheritance','polymorphism','string handling','multithreading','access modifiers','exception handling','generics']\n",
    "advanced = ['servlet','hibernate','struts','SOAP','REST','MVC','ORM','AOP','JSP','JDBC']"
   ]
  },
  {
   "cell_type": "code",
   "execution_count": 19,
   "metadata": {},
   "outputs": [],
   "source": [
    "rank1=0\n",
    "def finding(basics):\n",
    "     with open(\"cand.json\",\"rb\") as f:\n",
    "        data = json.load(f)\n",
    "        for line in data:\n",
    "            for word in basics:\n",
    "                match = re.findall(word,line['body'])\n",
    "                if match:\n",
    "                    rank1+=1\n",
    "                    print(rank1)"
   ]
  },
  {
   "cell_type": "code",
   "execution_count": 18,
   "metadata": {},
   "outputs": [],
   "source": [
    "rank2=0\n",
    "def finding(advanced):\n",
    "     with open(\"cand.json\",\"rb\") as f:\n",
    "        data = json.load(f)\n",
    "        for line in data:\n",
    "            for word in advanced:\n",
    "                match = re.findall(word,line['body'])\n",
    "                if match:\n",
    "                    rank2+=2\n",
    "            print(rank2)"
   ]
  },
  {
   "cell_type": "code",
   "execution_count": 20,
   "metadata": {},
   "outputs": [
    {
     "name": "stdout",
     "output_type": "stream",
     "text": [
      "0\n"
     ]
    }
   ],
   "source": [
    "print(rank1+rank2)"
   ]
  },
  {
   "cell_type": "code",
   "execution_count": null,
   "metadata": {},
   "outputs": [],
   "source": []
  }
 ],
 "metadata": {
  "kernelspec": {
   "display_name": "Python 3",
   "language": "python",
   "name": "python3"
  },
  "language_info": {
   "codemirror_mode": {
    "name": "ipython",
    "version": 3
   },
   "file_extension": ".py",
   "mimetype": "text/x-python",
   "name": "python",
   "nbconvert_exporter": "python",
   "pygments_lexer": "ipython3",
   "version": "3.7.0"
  }
 },
 "nbformat": 4,
 "nbformat_minor": 2
}
